{
 "cells": [
  {
   "cell_type": "markdown",
   "metadata": {},
   "source": [
    "# Objective Functions: A Simple Example with Matrix Factorisation.\n",
    "\n",
    "### 6th October 2015 Neil D. Lawrence\n",
    "\n",
    "### Modified by Mauricio A Álvarez, 1st October 2018\n",
    "\n",
    "In last week's class we saw how we could load in a data set to pandas and use it for some simple data processing. We computed various probabilities on the data and I encouraged you to think about what sort of probabilities you need for prediction. This week we are going to take a slightly different tack. \n",
    "\n",
    "Broadly speaking there are two dominating approaches to machine learning problems. We started to consider the first approach last week: constructing models based on defining the relationship between variables using probabilities. This week we will consider the second approach: which involves defining an *objective function* and optimizing it. \n",
    "\n",
    "What do we mean by an objective function? An objective function could be an *error function*, a *cost function* or a *benefit* function. In evolutionary computing they are called *fitness* functions. But the idea is always the same. We write down a mathematical equation which is then optimized to do the learning. The equation should be a function of the *data* and our model *parameters*. We have a choice when optimizing, either minimize or maximize. To avoid confusion, in the optimization field, we always choose to minimize the function. If we have a function that we would like to maximize, we simply choose to minimize the negative of that function. \n",
    "\n",
    "So for this lab session, we are going to ignore probabilities, but don't worry, they will return! \n",
    "\n",
    "This week we are going to try and build a simple movie recommender system using an objective function. To do this, the first thing I'd like you to do is to install some software we've written for sharing information across google documents.\n",
    "\n",
    "## Open Data Science Software\n",
    "\n",
    "In Sheffield we have written a suite of software tools for 'Open Data Science'. Open data science is an approach to sharing code, models and data that should make it easier for companies, health professionals and scientists to gain access to data science techniques. For some background on open data science you can read [this blog post](http://inverseprobability.com/2014/07/01/open-data-science/). The first thing we will do this week is to download that suite of software. \n",
    "\n",
    "The software can be installed using\n",
    "\n",
    "```python\n",
    "pip install pods\n",
    "```\n",
    "\n",
    "from the command prompt where you can access your python installation.\n",
    "\n",
    "\n",
    "## Download the MovieLens 100k Data\n",
    "\n",
    "We are going to download the [MovieLens 100k](http://files.grouplens.org/datasets/movielens/ml-latest-small-README.html) Data. This is a public dataset that contains 100,000 ratings and 3,600 tag applications applied to 9,000 movies by 600 users. When you use a data set that someone has prepared you should always reference the data source to acknowledge the work that's been placed in. This particular dataset was collected by the [Grouplens Research group](https://grouplens.org/),  at the University of Minnesota. For example, if you were to use this dataset for writing a paper, the authors ask you that you acknowledge their work by citing the following paper:\n",
    "\n",
    "F. Maxwell Harper and Joseph A. Konstan. 2015. The MovieLens Datasets: History and Context. ACM Transactions on Interactive Intelligent Systems (TiiS) 5 (4):1-19 [https://doi.org/10.1145/2827872](https://doi.org/10.1145/2827872)"
   ]
  },
  {
   "cell_type": "code",
   "execution_count": 44,
   "metadata": {},
   "outputs": [
    {
     "name": "stdout",
     "output_type": "stream",
     "text": [
      "Downloading  http://files.grouplens.org/datasets/movielens/ml-latest-small.zip -> ./ml-latest-small.zip\n",
      "[==============================]   0.933/0.933MB                                                                                                                                                                                                                                                                                                                                                                                                                                                                                                                                                                                                                                                                                                                                                                                                                                                                                                                                                                                                                                                                                                                                                                                                                                                                                                                                                                                                                                                                                                                                                                                                                                                                                                                                                                                                                                                                                                                                                                                                                                                                                                                                                                                                                                                                                                                                                                                                                                                                                                                                                                                                                                                                                                                                                                                                                                                                                                                                                                                                                                                                                                                                                                                                                                                                                                                                                                                                                                                                                                                                                                                                                                                                                                                                                                                                                                                                                                                                                                                                                                                                                                                                                                                                                                                                                                                                                                                                                                                                                                                                                                                                                                                                                                                                                                                                                                                                                                                                                                                                                                                                                                                                                                                                                                                                                                                                                                                                                                                                                                                                                                                                                                                                                                                                                                                                                                                                                                                                                                                                \n"
     ]
    }
   ],
   "source": [
    "import pods\n",
    "import zipfile\n",
    "import sys\n",
    "import pandas as pd\n",
    "import numpy as np\n",
    "\n",
    "pods.util.download_url(\"http://files.grouplens.org/datasets/movielens/ml-latest-small.zip\")\n",
    "zip_console = zipfile.ZipFile('ml-latest-small.zip', 'r')\n",
    "for name in zip_console.namelist():\n",
    "           zip_console.extract(name, './')"
   ]
  },
  {
   "cell_type": "markdown",
   "metadata": {},
   "source": [
    "### Assignment Question 1\n",
    "\n",
    "Data ethics. If you find data available on the internet, can you simply use it without consequence? If you are given data by a fellow researcher can you publish that data on line? \n",
    "\n",
    "*5 marks*"
   ]
  },
  {
   "cell_type": "markdown",
   "metadata": {},
   "source": [
    "#### Question 1 Answer\n",
    "1. NO, we have to ask the publisher before using it,or we have to write the reference while using it.\n",
    "2. No, we have to ask for permission before publishing things that are not our own work."
   ]
  },
  {
   "cell_type": "markdown",
   "metadata": {},
   "source": [
    "## Recommender Systems\n",
    "\n",
    "A recommender system aims to make suggestions for items (films, books, other commercial products) given what it knows about users' tastes. The recommendation engine needs to represent the *taste* of all the users and the *characteristics* of each object. \n",
    "\n",
    "A common way for organizing objects is to place related objects spatially close together. For example in a library we try and put books that are on related topics near to each other on the shelves. One system for doing this is known as [Dewey Decimal Classification](http://en.wikipedia.org/wiki/Dewey_Decimal_Classification). In the Dewey Decimal Classification system (which dates from 1876) each subject is given a number (in fact it's a decimal number). For example, the field of Natural Sciences and Mathematics is given numbers which start with 500. Subjects based on Computer Science are given numbers which start 004 and works on the 'mathematical principles' of Computer science are given the series 004.0151 (which we might store as 4.0151 on a Computer). Whilst it's a classification system, the books in the library are typically laid out in the same order as the numbers, so we might expect that neighbouring numbers represent books that are related in subject. That seems to be exactly what we want when also representing films. Could we somehow represent each film's subject according to a number? In a similar way we could then imagine representing users with a list of numbers that represent things that each user is interested in.\n",
    "\n",
    "Actually a one dimensional representation of a subject can be very awkward. To see this, let's have a look at the Dewey Decimal Classification numbers for the 900s, which is listed as 'History and Geography'. We will focus on subjects in the 940s which can be found in this list from [Wikipedia](https://en.wikipedia.org/wiki/List_of_Dewey_Decimal_classes#Class_900_%E2%80%93_History_&_geography). Whilst the ordering for places is somewhat sensible, it is also rather arbitrary. In the 940s we have Europe listed from 940-949, Asia listed from 950-959 and Africa listed from 960-969. Whilst it's true that Asia borders Europe, Africa is also very close, and the history of the Roman Empire spreads into [Carthage](http://en.wikipedia.org/wiki/Carthage) and later on Egypt. This image from Wikipedia shows a map of the Cathaginian Empire which fell after fighting with Rome. \n",
    "\n",
    "\n",
    "<a title=\"By Javierfv1212 [Public domain], from Wikimedia Commons\" href=\"https://commons.wikimedia.org/wiki/File:Carthaginianempire.PNG\"><img width=\"512\" alt=\"Carthaginianempire\" src=\"https://upload.wikimedia.org/wikipedia/commons/thumb/9/9b/Carthaginianempire.PNG/512px-Carthaginianempire.PNG\"></a>\n",
    "\n",
    "We now need to make a decision about whether Roman Histories are European or African, ideally we'd like them to be somewhere between the two, but we can't place them there in the Dewey Decimal system because between Europe and Africa is Asia, which has less to do with the Roman Empire than either Europe or Africa. Of course the fact that we've used a map provides a clue as to what to do next. Libraries are actually laid out on floors, so what if we were to use the spatial lay out to organise the sujbects of the books in two dimensions. Books on Geography could be laid out according to where in the world they are referring to. \n",
    "\n",
    "Such complexities are very hard to encapsulate in one number, but inspired by the map examples we can start considering how we might lay out films in two dimensions. Similarly, we can consider laying out a map of people's interests. If the two maps correspond to one another, the map of people could reflect where they might want to live in 'subject space'. We can think of representing people's tastes as where they might best like to sit in the library to access easily the books they are most interested in.\n",
    "\n",
    "\n",
    "## Inner Products for Representing Similarity\n",
    "\n",
    "Ideas like the above are good for gaining intuitions about what we might want, but the one of the skills of data science is representing those ideas mathematically. Mathematical abstraction of a problem is one of the key ways in which we've been able to progress as a society. Understanding planetary motions, as well as those of the smallest molecule (to quote Laplace's [Philosophical Essay on Probabilities](http://books.google.co.uk/books?id=1YQPAAAAQAAJ&printsec=frontcover&source=gbs_ge_summary_r&cad=0#v=onepage&q&f=false)) needed to be done mathematically. The right mathematical model in machine learning can be slightly more elusive, because constructing it is a two stage process. \n",
    "\n",
    "1. We have to determine the right intuition for the system we want to represent. Notions such as 'subject' and 'interest' are not mathematically well defined, and even when we create a new interpretation of what they might mean, each interpretation may have its own weaknesses. \n",
    "\n",
    "2. Once we have our interpretation we can attempt to mathematically formalize it. In our library interpretation, that's what we need to do next. \n",
    "\n",
    "### The Library on an Infinite Plane\n",
    "\n",
    "Let's imagine a library which stores all the items  we are interested in, not just books, but films and shopping items too. Such a library is likely to be very large, so we'll create it on an infinite two dimensional plane. This means we can use all the real numbers to represent the location of each item on the plane. For a two dimensional plane, we need to store the locations in a vector of numbers: we can decide that the $j$th item's location in the library is given by \n",
    "$$\n",
    "\\mathbf{v}_j = \\begin{bmatrix} v_{j,1} \\\\ v_{j,2}\\end{bmatrix},\n",
    "$$\n",
    "where $v_{j,1}$ represents the $j$th item's location in the East-West direction (or the $x$-axis) and $v_{j,2}$ represents the $j$th item's location in the North-South direction (or the $y$-axis). Now we need to specify the location where each user sits so that all the items that interest them are nearby: we can also represent the $i$th user's location with a vector \n",
    "$$\n",
    "\\mathbf{u}_i = \\begin{bmatrix} u_{i,1} \\\\ u_{i,2}\\end{bmatrix}.\n",
    "$$\n",
    "Finally, we need some way of recording a given user's affinity for a given item. This affinity might be the rating that the user gives the film. We can use $y_{i,j}$ to represent user $i$'s affinity for item $j$. \n",
    "\n",
    "For our film example we might imagine wanting to order films in a few ways. We could imagine organising films in the North-South direction as to how romantic they are. We could place the more romantic films further North and the less romantic films further South. For the East-West direction we could imagine ordering them according to how historic they are: we can imagine placing science fiction films to the East and historical drama to the West. In this case, fans of historical romances would be based in the North-West location, whilst fans of Science Fiction Action films might be located in the South-East (if we assume that 'Action' is the opposite of 'Romance', which is not necessarily the case). How do we lay out all these films? Have we got the right axes? In machine learning the answer is to 'let the data speak'. Use the data to try and obtain such a lay out. To do this we first need to obtain the data."
   ]
  },
  {
   "cell_type": "markdown",
   "metadata": {},
   "source": [
    "## Obtaining the Data\n",
    "\n",
    "As mentioned before, the MovieLens dataset that we'll use has 100,000 ratings to 9,000 movies by 600 users. For now, we will only work with a subset of the dataset. In particular, we will randomly chose a particular number of users and extract the movies and ratings that the users gave to those movies. Read the code below and understand what it is doing.\n",
    "\n",
    "**Before you run the code**, notice that `YourStudentID` in the first line is a variable that will specify the seed for the random number generator that will select a particular set of `nUsersInExample` users. Change the number that has been assigned by default to `YourStudentID` to the last three digits of your UCard number. All of you will have a different subset of users."
   ]
  },
  {
   "cell_type": "code",
   "execution_count": 54,
   "metadata": {},
   "outputs": [],
   "source": [
    "YourStudentID = 540  # Include here the last three digits of your UCard number\n",
    "nUsersInExample = 10 # The maximum number of Users we're going to analyse at one time\n",
    "\n",
    "ratings = pd.read_csv(\"./ml-latest-small/ratings.csv\") \n",
    "\n",
    "\"\"\"\n",
    "ratings is a DataFrame with four columns: userId, movieId, rating and tags. We\n",
    "first want to identify how many unique users there are. We can use the unique \n",
    "method in pandas\n",
    "\"\"\"\n",
    "indexes_unique_users = ratings['userId'].unique()#return array of unique persons\n",
    "\n",
    "n_users = indexes_unique_users.shape[0] \n",
    "\n",
    "\"\"\" \n",
    "We randomly select 'nUsers' users with their ratings. We first fix the seed\n",
    "of the random generator to make sure that we always get the same 'nUsers'\n",
    "\"\"\"\n",
    "np.random.seed(YourStudentID)\n",
    "\n",
    "indexes_users = np.random.permutation(n_users)#shuffle array\n",
    "my_batch_users = indexes_users[0:nUsersInExample]#only catch the first 10 \n",
    "\n",
    "\"\"\"\n",
    "We will use now the list of 'my_batch_users' to create a matrix Y. \n",
    "\"\"\"\n",
    "# We need to make a list of the movies that these users have watched\n",
    "list_movies_each_user = [[] for _ in range(nUsersInExample)] #init empty array(10)\n",
    "list_ratings_each_user = [[] for _ in range(nUsersInExample)]\n",
    "\n",
    "# Movies\n",
    "list_movies = ratings['movieId'][ratings['userId'] == my_batch_users[0]].values#find the movies (that first person chosen had rated)\n",
    "\n",
    "list_movies_each_user[0] = list_movies # add to the big list\n",
    "\n",
    "\n",
    "# Ratings                      \n",
    "list_ratings = ratings['rating'][ratings['userId'] == my_batch_users[0]].values\n",
    "list_ratings_each_user[0] = list_ratings\n",
    "# Users\n",
    "n_each_user = list_movies.shape[0] #how many movies the chosen had rated\n",
    "\n",
    "list_users = my_batch_users[0]*np.ones((1, n_each_user)) #init with n_each_user with value:my_batch_users[0]\n",
    "\n",
    "for i in range(1, nUsersInExample):\n",
    "    # Movies\n",
    "    local_list_per_user_movies = ratings['movieId'][ratings['userId'] == my_batch_users[i]].values\n",
    "    list_movies_each_user[i] = local_list_per_user_movies\n",
    "    list_movies = np.append(list_movies,local_list_per_user_movies)\n",
    "    # Ratings                                 \n",
    "    local_list_per_user_ratings = ratings['rating'][ratings['userId'] == my_batch_users[i]].values\n",
    "    list_ratings_each_user[i] = local_list_per_user_ratings\n",
    "    list_ratings = np.append(list_ratings, local_list_per_user_ratings)  \n",
    "    # Users                                   \n",
    "    n_each_user = local_list_per_user_movies.shape[0]                                                                               \n",
    "    local_rep_user =  my_batch_users[i]*np.ones((1, n_each_user))    \n",
    "    list_users = np.append(list_users, local_rep_user)\n",
    "\n",
    "# Let us first see how many unique movies have been rated\n",
    "indexes_unique_movies = np.unique(list_movies)\n",
    "n_movies = indexes_unique_movies.shape[0]\n",
    "# As it is expected no all users have rated all movies. We will build a matrix Y \n",
    "# with NaN inputs and fill according to the data for each user \n",
    "temp = np.empty((n_movies,nUsersInExample,))\n",
    "temp[:] = np.nan\n",
    "Y_with_NaNs = pd.DataFrame(temp)\n",
    "\n",
    "for i in range(nUsersInExample):\n",
    "    local_movies = list_movies_each_user[i]\n",
    "    ixs = np.in1d(indexes_unique_movies, local_movies) #check if local_movies is in indexes_unique_movies\n",
    "    Y_with_NaNs.loc[ixs, i] = list_ratings_each_user[i]#plot NaN\n",
    "\n",
    "Y_with_NaNs.index = indexes_unique_movies.tolist()\n",
    "Y_with_NaNs.columns = my_batch_users.tolist()\n"
   ]
  },
  {
   "cell_type": "markdown",
   "metadata": {},
   "source": [
    "### Assignment Question 2\n",
    "\n",
    "Have a look at the matrix `Y_with_NaNs`. The movies data is now in a data frame which contains one column for each user rating the movie. There are some entries that contain 'NaN'. What does the 'NaN' mean in this context?\n",
    "\n",
    "*5 marks*"
   ]
  },
  {
   "cell_type": "markdown",
   "metadata": {},
   "source": [
    "#### Answer Question 2\n",
    "\n",
    "The chosen user hasn't rated the movie."
   ]
  },
  {
   "cell_type": "markdown",
   "metadata": {},
   "source": [
    "Now we will convert our data structure into a form that is appropriate for processing. We will convert the `Y_with_NaNs` dataframe into a new dataframe which contains the user, the movie, and the rating using the following code"
   ]
  },
  {
   "cell_type": "code",
   "execution_count": 55,
   "metadata": {},
   "outputs": [],
   "source": [
    "p_list_ratings = np.concatenate(list_ratings_each_user).ravel()\n",
    "p_list_ratings_original = p_list_ratings.tolist()\n",
    "mean_ratings_train = np.mean(p_list_ratings)\n",
    "p_list_ratings =  p_list_ratings - mean_ratings_train # remove the mean\n",
    "p_list_movies = np.concatenate(list_movies_each_user).ravel().tolist()\n",
    "tt = np.concatenate(list_movies_each_user).tolist()\n",
    "p_list_users = list_users.tolist()\n",
    "Y = pd.DataFrame({'users': p_list_users, 'movies': p_list_movies, 'ratingsorig': p_list_ratings_original,'ratings':p_list_ratings.tolist()})\n",
    "#print(Y)\n",
    "#print(Y_with_NaNs)\n",
    "# print(p_list_movies is tt)\n"
   ]
  },
  {
   "cell_type": "markdown",
   "metadata": {},
   "source": [
    "### Assignment Question 3\n",
    "\n",
    "The dataframes `Y_with_NaNs` and `Y` contain the same information but organised in a different way. Explain what is the difference. We have also included two columns for ratings in dataframe `Y`, `ratingsorig` and `ratings`. Explain\n",
    "the difference. \n",
    "\n",
    "*10 marks*"
   ]
  },
  {
   "cell_type": "markdown",
   "metadata": {},
   "source": [
    "#### Question 3 Answer\n",
    "The dataframes \"Y_with_NaNs\" was form with the chosen users as column name and movie sequence as index,the value inside is the rating(if not rated,value = NAN).\n",
    "The dataframes \"Y\" was form with the selected column names as column and the labeled sequence as index(only the value with not \"NAN\" will be added which will also lead to smaller size of dataframe),and sorted by the column name sequence(name->movie->ratingsorig->ratings).\n",
    " \n"
   ]
  },
  {
   "cell_type": "markdown",
   "metadata": {},
   "source": [
    "## Measuring Similarity\n",
    "\n",
    "We now need a measure for determining the similarity between the item and the user: how close the user is sitting to the item in the rooom if you like. We are going to use the inner product between the vector representing the item and the vector representing the user. \n",
    "\n",
    "An inner product (or [dot product](http://en.wikipedia.org/wiki/Dot_product)) between two vectors $\\mathbf{a}$ and $\\mathbf{b}$ is written as $\\mathbf{a}\\cdot\\mathbf{b}$. Or in vector notation we sometimes write it as $\\mathbf{a}^\\top\\mathbf{b}$. An inner product is simply the sume of the products of each element of the vector,\n",
    "$$\n",
    "\\mathbf{a}^\\top\\mathbf{b} = \\sum_{i} a_i b_i\n",
    "$$\n",
    "The inner product can be seen as a measure of similarity. The inner product gives us the cosine of the angle between the two vectors multiplied by their length. The smaller the angle between two vectors the larger the inner product. \n",
    "$$\n",
    "\\mathbf{a}^\\top\\mathbf{b} = |\\mathbf{a}||\\mathbf{b}| \\cos(\\theta)\n",
    "$$\n",
    "where $\\theta$ is the angle between two vectors and $|\\mathbf{a}|$ and $|\\mathbf{b}|$ are the respective lengths of the two vectors.\n",
    "\n",
    "Since we want each user to be sitting near each item, then we want the inner product to be large for any two items which are rated highly by that user. We can do this by trying to force the inner product $\\mathbf{u}_i^\\top\\mathbf{v}_j$ to be similar to the rating given by the user, $y_{i,j}$. To ensure this we will use a least squares objective function for all user ratings."
   ]
  },
  {
   "cell_type": "markdown",
   "metadata": {},
   "source": [
    "## Objective Function\n",
    "\n",
    "The error function (or objective function, or cost function) we will choose is known as 'sum of squares', we will aim to minimize the sum of squared squared error between the inner product of $\\mathbf{u}_i$ and $\\mathbf{v}_i$ and the observed score for the user/item pairing, given by $y_{i, j}$. \n",
    "\n",
    "The total objective function can be written as\n",
    "$$\n",
    "E(\\mathbf{U}, \\mathbf{V}) = \\sum_{i,j} s_{i,j} (y_{i,j} - \\mathbf{u}_i^\\top \\mathbf{v}_j)^2\n",
    "$$\n",
    "where $s_{i,j}$ is an *indicator* variable that is 1 if user $i$ has rated item $j$ and is zero otherwise. Here $\\mathbf{U}$ is the matrix made up of all the vectors $\\mathbf{u}$,\n",
    "$$\n",
    "\\mathbf{U} = \\begin{bmatrix} \\mathbf{u}_1 \\dots \\mathbf{u}_n\\end{bmatrix}^\\top\n",
    "$$\n",
    "where we note that $i$th *row* of $\\mathbf{U}$ contains the vector associated with the $i$th user and $n$ is the total number of users. This form of matrix is known as a *design matrix*. Similarly, we define the matrix\n",
    "$$\n",
    "\\mathbf{V} = \\begin{bmatrix} \\mathbf{v}_1 \\dots \\mathbf{v}_m\\end{bmatrix}^\\top\n",
    "$$\n",
    "where again the $j$th row of $\\mathbf{V}$ contains the vector associated with the $j$th item and $m$ is the total number of items in the data set.\n",
    "\n",
    "## Objective Optimization\n",
    "\n",
    "The idea is to mimimize this objective. A standard, simple, technique for minimizing an objective is *gradient descent* or *steepest descent*. In gradient descent we simply choose to update each parameter in the model by subtracting a multiple of the objective function's gradient with respect to the parameters. So for a parameter $u_{i,j}$ from the matrix $\\mathbf{U}$ we would have an update as follows:\n",
    "$$\n",
    "u_{k,\\ell} \\leftarrow u_{k,\\ell} - \\eta \\frac{\\text{d} E(\\mathbf{U}, \\mathbf{V})}{\\text{d}u_{k,\\ell}} \n",
    "$$\n",
    "where $\\eta$ (which is pronounced *eta* in English) is a Greek letter representing the *learning rate*.  \n",
    "\n",
    "We can compute the gradient of the objective function with respect to $u_{k,\\ell}$ as\n",
    "$$\n",
    "\\frac{\\text{d}E(\\mathbf{U}, \\mathbf{V})}{\\text{d}u_{k,\\ell}} = -2 \\sum_j s_{k,j}v_{j,\\ell}(y_{k, j} - \\mathbf{u}_k^\\top\\mathbf{v}_{j}). \n",
    "$$\n",
    "Similarly each parameter $v_{i,j}$ needs to be updated according to its gradient. \n"
   ]
  },
  {
   "cell_type": "markdown",
   "metadata": {},
   "source": [
    "### Assignment Question 4\n",
    "\n",
    "What is the gradient of the objective function with respect to $v_{k, \\ell}$? Write your answer in the box below, and explain which differentiation techniques you used to get there. You will be expected to justify your answer in class by oral questioning. \n",
    "\n",
    "*15 marks*"
   ]
  },
  {
   "cell_type": "markdown",
   "metadata": {},
   "source": [
    "#### Question 4 Answer\n",
    "1. \n",
    "$$\n",
    "\\frac{\\text{d}E(\\mathbf{U}, \\mathbf{V})}{\\text{d}v_{k,\\ell}} = -2 \\sum_i s_{i,k}u_{i,\\ell}(y_{i, k} - \\mathbf{u}_i^\\top\\mathbf{v}_{k}). \n",
    "$$\n",
    "2. Assume i as random and choose j = k, and change the V into U as chain rule.  \n",
    "\n"
   ]
  },
  {
   "cell_type": "code",
   "execution_count": 110,
   "metadata": {},
   "outputs": [],
   "source": [
    "# Question 4 Code Answer\n"
   ]
  },
  {
   "cell_type": "markdown",
   "metadata": {},
   "source": [
    "## Steepest Descent Algorithm\n",
    "\n",
    "In the steepest descent algorithm we aim to minimize the objective function by subtacting the gradient of the objective function from the parameters. \n",
    "\n",
    "### Initialisation\n",
    "\n",
    "To start with though, we need initial values for the matrix $\\mathbf{U}$ and the matrix $\\mathbf{V}$. Let's create them as `pandas` data frames and initialise them randomly with small values."
   ]
  },
  {
   "cell_type": "code",
   "execution_count": 56,
   "metadata": {},
   "outputs": [],
   "source": [
    "q = 2 # the dimension of our map of the 'library'\n",
    "learn_rate = 0.001\n",
    "U = pd.DataFrame(np.random.normal(size=(nUsersInExample, q))*0.001, index=my_batch_users)\n",
    "V = pd.DataFrame(np.random.normal(size=(n_movies, q))*0.001, index=indexes_unique_movies)"
   ]
  },
  {
   "cell_type": "markdown",
   "metadata": {},
   "source": [
    "Now that we have the initial values set, we can start the optimization. First we define a function for the gradient of the objective and the objective function itself."
   ]
  },
  {
   "cell_type": "code",
   "execution_count": 57,
   "metadata": {},
   "outputs": [],
   "source": [
    "def objective_gradient(Y, U, V):\n",
    "    gU = pd.DataFrame(np.zeros((U.shape)), index=U.index) #(10,2) all index:0\n",
    "    gV = pd.DataFrame(np.zeros((V.shape)), index=V.index)#(1418,2) all index:0\n",
    "    obj = 0.01\n",
    "    nrows = Y.shape[0]\n",
    "    for i in range(nrows):\n",
    "        row = Y.iloc[i]#catch a row of data\n",
    "        user = row['users']\n",
    "        film = row['movies']\n",
    "        rating = row['ratings']\n",
    "        prediction = np.dot(U.loc[user], V.loc[film]) # vTu 1x2 dot 1x2\n",
    "        diff = prediction - rating # vTu - y\n",
    "        obj += diff*diff\n",
    "        gU.loc[user] += 2*diff*V.loc[film]#store data log (learning base)\n",
    "        gV.loc[film] += 2*diff*U.loc[user]\n",
    "    return obj, gU, gV\n"
   ]
  },
  {
   "cell_type": "markdown",
   "metadata": {},
   "source": [
    "Now we can write our simple optimisation route. This allows us to observe the objective function as the optimization proceeds."
   ]
  },
  {
   "cell_type": "code",
   "execution_count": 159,
   "metadata": {},
   "outputs": [
    {
     "name": "stdout",
     "output_type": "stream",
     "text": [
      "Iteration 0 Objective function:  1448.8575240847968\n",
      "Iteration 1 Objective function:  1448.857495281986\n",
      "Iteration 2 Objective function:  1448.8574661590292\n",
      "Iteration 3 Objective function:  1448.857436613964\n",
      "Iteration 4 Objective function:  1448.8574065426824\n",
      "Iteration 5 Objective function:  1448.8573758384096\n",
      "Iteration 6 Objective function:  1448.857344391223\n",
      "Iteration 7 Objective function:  1448.8573120874883\n",
      "Iteration 8 Objective function:  1448.8572788092838\n",
      "Iteration 9 Objective function:  1448.857244433845\n",
      "Iteration 10 Objective function:  1448.8572088329186\n",
      "Iteration 11 Objective function:  1448.8571718721234\n",
      "Iteration 12 Objective function:  1448.857133410251\n",
      "Iteration 13 Objective function:  1448.857093298534\n",
      "Iteration 14 Objective function:  1448.8570513798659\n",
      "Iteration 15 Objective function:  1448.8570074879788\n",
      "Iteration 16 Objective function:  1448.8569614465152\n",
      "Iteration 17 Objective function:  1448.8569130681378\n",
      "Iteration 18 Objective function:  1448.8568621534505\n",
      "Iteration 19 Objective function:  1448.8568084899366\n"
     ]
    }
   ],
   "source": [
    "iterations = 20\n",
    "for i in range(iterations):\n",
    "    obj, gU, gV = objective_gradient(Y, U, V)\n",
    "    print(\"Iteration\", i, \"Objective function: \", obj)\n",
    "    U -= learn_rate*gU\n",
    "    V -= learn_rate*gV    "
   ]
  },
  {
   "cell_type": "markdown",
   "metadata": {},
   "source": [
    "### Assignment Question 5\n",
    "\n",
    "What happens as you increase the number of iterations? What happens if you increase the learning rate?\n",
    "\n",
    "*10 marks*"
   ]
  },
  {
   "cell_type": "markdown",
   "metadata": {},
   "source": [
    "#### Question 5 Answer\n",
    "1. The greater the iteration is, the obj will keep decreasing ,and the decreasing rate will raise with iteration.\n",
    "2. If increase the learning rate, the U and V will decrease too fast(the remaining data will overflow),the obj will be infinite"
   ]
  },
  {
   "cell_type": "code",
   "execution_count": 160,
   "metadata": {},
   "outputs": [
    {
     "name": "stdout",
     "output_type": "stream",
     "text": [
      "Iteration 0 Objective function:  1448.8567518507643\n",
      "Iteration 1 Objective function:  1448.8566919935167\n",
      "Iteration 2 Objective function:  1448.8566286588284\n",
      "Iteration 3 Objective function:  1448.8565615689204\n",
      "Iteration 4 Objective function:  1448.8564904259786\n",
      "Iteration 5 Objective function:  1448.856414910468\n",
      "Iteration 6 Objective function:  1448.8563346792544\n",
      "Iteration 7 Objective function:  1448.8562493635786\n",
      "Iteration 8 Objective function:  1448.8561585669315\n",
      "Iteration 9 Objective function:  1448.856061862626\n",
      "Iteration 10 Objective function:  1448.8559587913267\n",
      "Iteration 11 Objective function:  1448.8558488582153\n",
      "Iteration 12 Objective function:  1448.855731530035\n",
      "Iteration 13 Objective function:  1448.8556062318428\n",
      "Iteration 14 Objective function:  1448.8554723434638\n",
      "Iteration 15 Objective function:  1448.855329195706\n",
      "Iteration 16 Objective function:  1448.855176066185\n",
      "Iteration 17 Objective function:  1448.8550121748506\n",
      "Iteration 18 Objective function:  1448.854836679105\n",
      "Iteration 19 Objective function:  1448.8546486684793\n",
      "Iteration 20 Objective function:  1448.8544471589148\n",
      "Iteration 21 Objective function:  1448.854231086507\n",
      "Iteration 22 Objective function:  1448.853999300692\n",
      "Iteration 23 Objective function:  1448.8537505569307\n",
      "Iteration 24 Objective function:  1448.8534835086498\n",
      "Iteration 25 Objective function:  1448.8531966985538\n",
      "Iteration 26 Objective function:  1448.8528885492142\n",
      "Iteration 27 Objective function:  1448.8525573527272\n",
      "Iteration 28 Objective function:  1448.8522012595815\n",
      "Iteration 29 Objective function:  1448.8518182665227\n",
      "Iteration 30 Objective function:  1448.851406203329\n",
      "Iteration 31 Objective function:  1448.850962718477\n",
      "Iteration 32 Objective function:  1448.850485263525\n",
      "Iteration 33 Objective function:  1448.8499710761546\n",
      "Iteration 34 Objective function:  1448.8494171617044\n",
      "Iteration 35 Objective function:  1448.8488202730862\n",
      "Iteration 36 Objective function:  1448.8481768889626\n",
      "Iteration 37 Objective function:  1448.8474831899762\n",
      "Iteration 38 Objective function:  1448.8467350329245\n",
      "Iteration 39 Objective function:  1448.8459279226222\n",
      "Iteration 40 Objective function:  1448.845056981324\n",
      "Iteration 41 Objective function:  1448.8441169154141\n",
      "Iteration 42 Objective function:  1448.8431019792029\n",
      "Iteration 43 Objective function:  1448.842005935472\n",
      "Iteration 44 Objective function:  1448.8408220125893\n",
      "Iteration 45 Objective function:  1448.8395428578026\n",
      "Iteration 46 Objective function:  1448.8381604863862\n",
      "Iteration 47 Objective function:  1448.8366662263318\n",
      "Iteration 48 Objective function:  1448.835050658101\n",
      "Iteration 49 Objective function:  1448.8333035490475\n"
     ]
    },
    {
     "data": {
      "text/plain": [
       "[<matplotlib.lines.Line2D at 0xb2a587518>]"
      ]
     },
     "execution_count": 160,
     "metadata": {},
     "output_type": "execute_result"
    },
    {
     "data": {
      "image/png": "[encoded data removed]",
      "text/plain": [
       "<Figure size 432x288 with 1 Axes>"
      ]
     },
     "metadata": {},
     "output_type": "display_data"
    }
   ],
   "source": [
    "# Question 5 Code Answer\n",
    "%matplotlib inline \n",
    "import pylab as plt # this imports the plotting library in python\n",
    "iterations = 50\n",
    "mX = []\n",
    "mY = []\n",
    "for i in range(iterations):\n",
    "    obj, gU, gV = objective_gradient(Y, U, V)\n",
    "    print(\"Iteration\", i, \"Objective function: \", obj)\n",
    "    U -= learn_rate*gU\n",
    "    V -= learn_rate*gV   \n",
    "    mX.append(i)\n",
    "    mY.append(obj)\n",
    "plt.plot(mX,mY,'rx')"
   ]
  },
  {
   "cell_type": "markdown",
   "metadata": {},
   "source": [
    "## Making Predictions\n",
    "\n",
    "Predictions can be made from the model of the appropriate rating for a given user, $i$, for a given film, $j$, by simply taking the inner product between their vectors $\\mathbf{u}_i$ and $\\mathbf{v}_j$. "
   ]
  },
  {
   "cell_type": "markdown",
   "metadata": {},
   "source": [
    "### Assignment Question 6\n",
    "\n",
    "Create a function that provides the prediction of the ratings for the users in the dataset. Is the quality of the predictions affected by the number of iterations or the learning rate? The function should receive `Y`, `U` and `V` and return the predictions and the absolute error between the predictions and the actual rating given by the users. The predictions and the absolute error should be added as additional columns to the dataframe `Y`.\n",
    "\n",
    "*15 marks*"
   ]
  },
  {
   "cell_type": "code",
   "execution_count": 58,
   "metadata": {},
   "outputs": [
    {
     "name": "stdout",
     "output_type": "stream",
     "text": [
      "       users  movies  ratingsorig   ratings     error\n",
      "0      245.0     162          3.0 -0.551031  0.551030\n",
      "1      245.0     246          4.0  0.448969  0.448968\n",
      "2      245.0     581          3.0 -0.551031  0.551032\n",
      "3      245.0     745          3.0 -0.551031  0.551031\n",
      "4      245.0     858          2.0 -1.551031  1.551033\n",
      "5      245.0     912          3.0 -0.551031  0.551029\n",
      "6      245.0    1092          1.0 -2.551031  2.551030\n",
      "7      245.0    1148          3.0 -0.551031  0.551033\n",
      "8      245.0    1189          4.0  0.448969  0.448970\n",
      "9      245.0    1361          3.0 -0.551031  0.551032\n",
      "10     245.0    2064          2.0 -1.551031  1.551029\n",
      "11     245.0    2289          3.0 -0.551031  0.551031\n",
      "12     245.0    2599          3.0 -0.551031  0.551029\n",
      "13     245.0    2739          3.0 -0.551031  0.551030\n",
      "14     245.0    3101          1.0 -2.551031  2.551031\n",
      "15     245.0    3106          1.0 -2.551031  2.551031\n",
      "16     245.0    3114          4.0  0.448969  0.448969\n",
      "17     245.0    3196          3.0 -0.551031  0.551030\n",
      "18     245.0    3252          3.0 -0.551031  0.551031\n",
      "19     245.0    3257          3.0 -0.551031  0.551032\n",
      "20     245.0    3274          2.0 -1.551031  1.551032\n",
      "21      95.0       7          3.0 -0.551031  0.551033\n",
      "22      95.0      18          3.5 -0.051031  0.051030\n",
      "23      95.0      25          5.0  1.448969  1.448972\n",
      "24      95.0      29          5.0  1.448969  1.448969\n",
      "25      95.0      32          4.0  0.448969  0.448968\n",
      "26      95.0      34          4.0  0.448969  0.448971\n",
      "27      95.0      39          4.0  0.448969  0.448966\n",
      "28      95.0     122          3.5 -0.051031  0.051033\n",
      "29      95.0     162          5.0  1.448969  1.448969\n",
      "...      ...     ...          ...       ...       ...\n",
      "17136  606.0   55069          4.0  0.448969  0.448968\n",
      "17137  606.0   55247          4.0  0.448969  0.448968\n",
      "17138  606.0   55442          4.5  0.948969  0.948969\n",
      "17139  606.0   55805          3.0 -0.551031  0.551032\n",
      "17140  606.0   55820          3.0 -0.551031  0.551030\n",
      "17141  606.0   55946          3.0 -0.551031  0.551031\n",
      "17142  606.0   56174          2.5 -1.051031  1.051033\n",
      "17143  606.0   56333          3.5 -0.051031  0.051031\n",
      "17144  606.0   58295          3.0 -0.551031  0.551031\n",
      "17145  606.0   58783          2.5 -1.051031  1.051031\n",
      "17146  606.0   60069          4.0  0.448969  0.448970\n",
      "17147  606.0   62999          3.0 -0.551031  0.551031\n",
      "17148  606.0   63082          5.0  1.448969  1.448970\n",
      "17149  606.0   64614          4.5  0.948969  0.948970\n",
      "17150  606.0   64839          3.0 -0.551031  0.551029\n",
      "17151  606.0   67255          4.0  0.448969  0.448968\n",
      "17152  606.0   67295          3.0 -0.551031  0.551032\n",
      "17153  606.0   68480          1.5 -2.051031  2.051032\n",
      "17154  606.0   68872          4.0  0.448969  0.448968\n",
      "17155  606.0   69224          4.0  0.448969  0.448968\n",
      "17156  606.0   69604          3.0 -0.551031  0.551032\n",
      "17157  606.0   69644          4.0  0.448969  0.448967\n",
      "17158  606.0   69844          4.0  0.448969  0.448969\n",
      "17159  606.0   72603          3.0 -0.551031  0.551030\n",
      "17160  606.0   72998          3.0 -0.551031  0.551031\n",
      "17161  606.0   76093          4.0  0.448969  0.448970\n",
      "17162  606.0   91500          4.5  0.948969  0.948967\n",
      "17163  606.0   95105          2.5 -1.051031  1.051031\n",
      "17164  606.0   97225          3.5 -0.051031  0.051030\n",
      "17165  606.0   98243          3.0 -0.551031  0.551030\n",
      "\n",
      "[17166 rows x 5 columns]\n"
     ]
    }
   ],
   "source": [
    "# Question 6 Code Answer\n",
    "sLength = Y.shape[0]\n",
    "Y['error'] = pd.Series(np.random.randn(sLength), index=Y.index)\n",
    "errorList = []\n",
    "\n",
    "def makePredict(Y, U, V): \n",
    "    obj = 0.01\n",
    "    nrows = Y.shape[0]\n",
    "    for i in range(nrows):\n",
    "        row = Y.iloc[i]\n",
    "        user = row['users']\n",
    "        film = row['movies']\n",
    "        rating = row['ratings']\n",
    "        prediction = np.dot(U.loc[user], V.loc[film]) # vTu\n",
    "        diff = abs(prediction - rating) # vTu - y\n",
    "        errorList.append(diff)\n",
    "    return errorList\n",
    "makePredict(Y, U, V)\n",
    "Y_new = pd.DataFrame(errorList,index = Y.index)\n",
    "Y['error'] = Y_new\n",
    "print(Y)\n",
    "    \n",
    "\n",
    "\n",
    "\n"
   ]
  },
  {
   "cell_type": "markdown",
   "metadata": {},
   "source": [
    "## Stochastic Gradient Descent or Robbins Monroe Algorithm\n",
    "\n",
    "Stochastic gradient descent involves updating separating each gradient update according to each separate observation, rather than summing over them all. It is an approximate optimization method, but it has proven convergence under certain conditions and can be much faster in practice. It is used widely by internet companies for doing machine learning in practice. For example, Facebook's ad ranking algorithm uses stochastic gradient descent. "
   ]
  },
  {
   "cell_type": "markdown",
   "metadata": {},
   "source": [
    "### Assignment Question 7\n",
    "\n",
    "Create a stochastic gradient descent version of the algorithm. Monitor the objective function after every 1000 updates to ensure that it is decreasing. When you have finished, plot the movie map and the user map in two dimensions (you can use the columns of the matrices $\\mathbf{U}$ for the user map and the columns of $\\mathbf{V}$ for the movie map). Provide three observations about these maps.\n",
    "\n",
    "*25 marks*"
   ]
  },
  {
   "cell_type": "code",
   "execution_count": 40,
   "metadata": {},
   "outputs": [
    {
     "name": "stdout",
     "output_type": "stream",
     "text": [
      "0.6678146651498112 iteration : 0\n",
      "0.6678146684603742 iteration : 1000\n",
      "0.6678146625143669 iteration : 2000\n",
      "0.667814648632495 iteration : 3000\n",
      "0.6678146293234344 iteration : 4000\n",
      "0.66781459760127 iteration : 5000\n",
      "0.6678145323020628 iteration : 6000\n",
      "0.6678143928768664 iteration : 7000\n",
      "0.6678140887361244 iteration : 8000\n",
      "0.6678134214828936 iteration : 9000\n",
      "0.6678119228881482 iteration : 10000\n",
      "0.6678084982194116 iteration : 11000\n",
      "0.6678005203940379 iteration : 12000\n",
      "0.6677814595057793 iteration : 13000\n",
      "0.6677365221644453 iteration : 14000\n",
      "0.6676291166911839 iteration : 15000\n",
      "0.6673729366787673 iteration : 16000\n",
      "0.6667593586114368 iteration : 17000\n",
      "0.665318312423473 iteration : 18000\n",
      "0.6619213984083135 iteration : 19000\n"
     ]
    }
   ],
   "source": [
    "# Question 7 Code Answer\n",
    "\n",
    "# for i in range(nb_epochs):\n",
    "#   np.random.shuffle(data)\n",
    "#   for example in data:\n",
    "#     params_grad = evaluate_gradient(loss_function, example, params)\n",
    "#     params = params - learning_rate * params_grad\n",
    "\n",
    "\n",
    "def SGD(Y, U, V):\n",
    "    gU = pd.DataFrame(np.zeros((U.shape)), index=U.index) #(10,2) all index:0\n",
    "    gV = pd.DataFrame(np.zeros((V.shape)), index=V.index)#(1418,2) all index:0\n",
    "    obj = 0\n",
    "    nrows = Y.shape[0]\n",
    "    for times in range(10):\n",
    "        for i in range(nrows): \n",
    "            iterations = (times)*nrows + i\n",
    "            choose = np.random.randint(0, nrows)\n",
    "            row = Y.iloc[choose]#catch a row of data\n",
    "            user = row['users']\n",
    "            film = row['movies']\n",
    "            rating = row['ratings']\n",
    "            prediction = np.dot(U.loc[user], V.loc[film]) # vTu 1x2 dot 1x2\n",
    "            diff = prediction - rating # vTu - y\n",
    "            obj = diff*diff\n",
    "            gU.loc[user] += 2*diff*V.loc[film]#store data log (learning base)\n",
    "            gV.loc[film] += 2*diff*U.loc[user]\n",
    "            U -= learn_rate*gU\n",
    "            V -= learn_rate*gV \n",
    "            if iterations%1000 == 0:\n",
    "                print(np.mean(makePredict(Y, U, V)),'iteration :',iterations)\n",
    "    return U,V\n",
    "\n",
    "learn_rate = 0.00001\n",
    "U = pd.DataFrame(np.random.normal(size=(nUsersInExample, q))*0.001, index=my_batch_users)\n",
    "V = pd.DataFrame(np.random.normal(size=(n_movies, q))*0.001, index=indexes_unique_movies)\n",
    "U,V = SGD(Y, U, V)\n",
    "\n",
    "\n"
   ]
  },
  {
   "cell_type": "code",
   "execution_count": 41,
   "metadata": {},
   "outputs": [
    {
     "data": {
      "text/plain": [
       "[<matplotlib.lines.Line2D at 0xb24c5d6a0>]"
      ]
     },
     "execution_count": 41,
     "metadata": {},
     "output_type": "execute_result"
    },
    {
     "data": {
      "image/png": "[encoded data removed]",
      "text/plain": [
       "<Figure size 432x288 with 2 Axes>"
      ]
     },
     "metadata": {},
     "output_type": "display_data"
    }
   ],
   "source": [
    "\n",
    "%matplotlib inline \n",
    "import pylab as plt # this imports the plotting library in python\n",
    "plt.subplots_adjust(left=None, bottom=None, right=None, top=2, wspace=None, hspace=None)\n",
    "plt.subplot(211)\n",
    "plt.plot(U[0], U[1], 'rx')\n",
    "plt.subplot(212)\n",
    "plt.plot(V[0], V[1], 'bx')\n"
   ]
  },
  {
   "cell_type": "markdown",
   "metadata": {},
   "source": [
    "## Is Our Map Enough? Are Our Data Enough?\n",
    "\n",
    "Is two dimensions really enough to capture the complexity of humans and their artforms? Perhaps we need even more dimensions to capture that complexity. Extending our books analogy further, consider how we should place books that have a historical timeframe as well as some geographical location. Do we really want books from the 2nd World War to sit alongside books from the Roman Empire? Books on the American invasion of Sicily in 1943 are perhaps less related to books about Carthage than those that study the Jewish Revolt from 66-70 (in the Roman Province of Judaea). So books that relate to subjects which are closer in time should be stored together. However, a student of rebellion against empire may also be interested in the relationship between the Jewish Revolt of 66-70 and the Indian Rebellion of 1857, nearly 1800 years later. Whilst the technologies are different, the psychology of the people is shared: a rebellious nation angainst their imperial masters, triggered by misrule with a religious and cultural background. To capture such complexities we would need further dimensions in our latent representation. But are further dimensions justified by the amount of data we have? Can we really understand the facets of a film that only has at most three or four ratings?"
   ]
  },
  {
   "cell_type": "code",
   "execution_count": null,
   "metadata": {},
   "outputs": [],
   "source": [
    "\n"
   ]
  },
  {
   "cell_type": "markdown",
   "metadata": {},
   "source": [
    "## Going Further\n",
    "\n",
    "If you want to take this model further then you'll need more data. You can use again the MovieLens 100k data but increasing the number of users (for example, for the Steepest Descent Algorithm you can do this by modifying the variable `nUsersInExample` that was set as 10 before)."
   ]
  },
  {
   "cell_type": "markdown",
   "metadata": {},
   "source": [
    "### Assignment Question 8\n",
    "\n",
    "Use stochastic gradient descent to make a movie map for the MovieLens 100k data. Plot the map of the movies when you are finished.\n",
    "\n",
    "*15 marks*"
   ]
  },
  {
   "cell_type": "code",
   "execution_count": 53,
   "metadata": {},
   "outputs": [
    {
     "name": "stdout",
     "output_type": "stream",
     "text": [
      "Downloading  http://files.grouplens.org/datasets/movielens/ml-latest-small.zip -> ./ml-latest-small.zip\n",
      "[==============================]   0.933/0.933MB                                                                                                                                                                                                                                                                                                                                                                                                                                                                                                                                                                                                                                                                                                                                                                                                                                                                                                                                                                                                                                                                                                                                                                                                                                                                                                                                                                                                                                                                                                                                                                                                                                                                                                                                                                                                                                                                                                                                                                                                                                                                                                                                                                                                                                                                                                                                                                                                                                                                                                                                                                                                                                                                                                                                                                                                                                                                                                                                                                                                                                                                                                                                                                                                                                                                                                                                                                                                                                                                                                                                                                                                                                                                                                                                                                                                                                                                                                                                                                                                                                                                                                                                                                                                                                                                                                                                                                                                                                                                                                                                                                                                                                                                                                                                                                                                                                                                                                                                                                                                                                                                                                                                                                                                                                                                                                                                                                                                                                                                                                                                                                                                                                                                                                                                                                                                                                                                                                                                                                                                \n"
     ]
    }
   ],
   "source": [
    "import pods\n",
    "import zipfile\n",
    "import sys\n",
    "import pandas as pd\n",
    "import numpy as np\n",
    "\n",
    "pods.util.download_url(\"http://files.grouplens.org/datasets/movielens/ml-latest-small.zip\")\n",
    "zip_console = zipfile.ZipFile('ml-latest-small.zip', 'r')\n",
    "for name in zip_console.namelist():\n",
    "           zip_console.extract(name, './')"
   ]
  },
  {
   "cell_type": "code",
   "execution_count": 59,
   "metadata": {},
   "outputs": [
    {
     "name": "stdout",
     "output_type": "stream",
     "text": [
      "0.7689442434967201 iteration : 0\n",
      "0.7689442424988973 iteration : 1000\n",
      "0.7689442405515422 iteration : 2000\n",
      "0.7689442377155463 iteration : 3000\n",
      "0.7689442340008952 iteration : 4000\n",
      "0.7689442290705216 iteration : 5000\n",
      "0.7689442225429899 iteration : 6000\n",
      "0.7689442140587235 iteration : 7000\n",
      "0.7689442032635502 iteration : 8000\n",
      "0.7689441894690905 iteration : 9000\n",
      "0.768944171762823 iteration : 10000\n",
      "0.7689441488183043 iteration : 11000\n",
      "0.7689441189176338 iteration : 12000\n",
      "0.7689440796412146 iteration : 13000\n",
      "0.768944027860673 iteration : 14000\n",
      "0.7689439596809855 iteration : 15000\n",
      "0.76894386850942 iteration : 16000\n",
      "0.768943745350852 iteration : 17000\n",
      "0.7689435800755046 iteration : 18000\n",
      "0.7689433563910852 iteration : 19000\n",
      "0.7689430495739993 iteration : 20000\n",
      "0.7689426289077901 iteration : 21000\n",
      "0.768942049576725 iteration : 22000\n",
      "0.7689412484415958 iteration : 23000\n",
      "0.7689401338541864 iteration : 24000\n",
      "0.7689385897524071 iteration : 25000\n",
      "0.7689364294013502 iteration : 26000\n",
      "0.7689334378933675 iteration : 27000\n",
      "0.7689293124129033 iteration : 28000\n",
      "0.768923616446438 iteration : 29000\n",
      "0.7689157579518796 iteration : 30000\n",
      "0.7689048872510661 iteration : 31000\n",
      "0.7688897112926877 iteration : 32000\n",
      "0.7688683239543506 iteration : 33000\n",
      "0.7688377322388075 iteration : 34000\n"
     ]
    }
   ],
   "source": [
    "\n",
    "\n",
    "def makePredict(Y, U, V): \n",
    "    obj = 0\n",
    "    nrows = Y.shape[0]\n",
    "    for i in range(nrows):\n",
    "        row = Y.iloc[i]\n",
    "        user = row['users']\n",
    "        film = row['movies']\n",
    "        rating = row['ratings']\n",
    "        prediction = np.dot(U.loc[user], V.loc[film]) # vTu\n",
    "        diff = abs(prediction - rating) # vTu - y\n",
    "        errorList.append(diff)\n",
    "    return errorList\n",
    "\n",
    "def SGD2(Y, U, V):\n",
    "    gU = pd.DataFrame(np.zeros((U.shape)), index=U.index) #(10,2) all index:0\n",
    "    gV = pd.DataFrame(np.zeros((V.shape)), index=V.index)#(1418,2) all index:0\n",
    "    obj = 0\n",
    "    nrows = Y.shape[0]\n",
    "    for times in range(2):\n",
    "        for i in range(nrows): \n",
    "            iterations = times*nrows + i\n",
    "            choose = np.random.randint(0, nrows)\n",
    "            row = Y.iloc[choose]#catch a row of data\n",
    "            user = row['users']\n",
    "            film = row['movies']\n",
    "            rating = row['ratings']\n",
    "            prediction = np.dot(U.loc[user], V.loc[film]) # vTu 1x2 dot 1x2\n",
    "            diff = prediction - rating # vTu - y\n",
    "            obj = diff*diff\n",
    "            gU.loc[user] += 2*diff*V.loc[film]#store data log (learning base)\n",
    "            gV.loc[film] += 2*diff*U.loc[user]\n",
    "            U -= learn_rate*gU\n",
    "            V -= learn_rate*gV \n",
    "            if iterations%1000 == 0:\n",
    "                print(np.mean(makePredict(Y, U, V)),'iteration :',iterations)\n",
    "    return U,V\n",
    "\n",
    "learn_rate = 0.00001\n",
    "U = pd.DataFrame(np.random.normal(size=(nUsersInExample, q))*0.001, index=my_batch_users)\n",
    "V = pd.DataFrame(np.random.normal(size=(n_movies, q))*0.001, index=indexes_unique_movies)\n",
    "U,V = SGD2(Y, U, V)\n"
   ]
  },
  {
   "cell_type": "code",
   "execution_count": null,
   "metadata": {},
   "outputs": [],
   "source": [
    "%matplotlib inline \n",
    "import pylab as plt # this imports the plotting library in python\n",
    "plt.subplots_adjust(left=None, bottom=None, right=None, top=2, wspace=None, hspace=None)\n",
    "plt.subplot(211)\n",
    "plt.plot(U[0], U[1], 'rx')\n",
    "plt.subplot(212)\n",
    "plt.plot(V[0], V[1], 'bx')\n",
    "param = np.dot(U,V.T)\n"
   ]
  },
  {
   "cell_type": "code",
   "execution_count": null,
   "metadata": {},
   "outputs": [],
   "source": []
  },
  {
   "cell_type": "code",
   "execution_count": null,
   "metadata": {},
   "outputs": [],
   "source": []
  }
 ],
 "metadata": {
  "kernelspec": {
   "display_name": "Python 3",
   "language": "python",
   "name": "python3"
  },
  "language_info": {
   "codemirror_mode": {
    "name": "ipython",
    "version": 3
   },
   "file_extension": ".py",
   "mimetype": "text/x-python",
   "name": "python",
   "nbconvert_exporter": "python",
   "pygments_lexer": "ipython3",
   "version": "3.6.5"
  }
 },
 "nbformat": 4,
 "nbformat_minor": 1
}
